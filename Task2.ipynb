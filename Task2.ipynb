{
 "cells": [
  {
   "cell_type": "markdown",
   "metadata": {},
   "source": [
    "<b>Task 2 :  Instructions to launch a synthesis task for a male English voice dataset which has an Indian accent.</b>"
   ]
  },
  {
   "cell_type": "markdown",
   "metadata": {},
   "source": [
    "For fine-tuning the <a href=\"https://drive.google.com/file/d/1hXwdQ8n2h24WqbsNAASm7WFCmRIZM5nY/view?usp=sharing\">male English voice dataset which has an Indian accent </a>, I followed the instructions here: <a href=\"https://tts.readthedocs.io/en/latest/finetuning.html\">Steps to fine-tune a 🐸 TTS model</a>."
   ]
  },
  {
   "cell_type": "markdown",
   "metadata": {},
   "source": [
    "<i>Notes:</i><br>\n",
    "<i>At home I only have available Windows for the moment.<br>\n",
    "I tried installing Coqui TTS, however it didn't work.<br>\n",
    "I installed quickly Ubuntu 18.04 LTS (no GUI) and could only use comand line for performing the tasks.<br>\n",
    "I didn't succeed in running the jupyter notebook in colab, as it always throws an error at the end of the installation of tts.\n",
    "</i>"
   ]
  },
  {
   "cell_type": "markdown",
   "metadata": {},
   "source": [
    "# Download the <a href=\"https://drive.google.com/file/d/1hXwdQ8n2h24WqbsNAASm7WFCmRIZM5nY/view?usp=sharing\">audio files</a> and extract them into [username]/[voicefolder]"
   ]
  },
  {
   "cell_type": "markdown",
   "metadata": {},
   "source": [
    "# Install Coqui TTS"
   ]
  },
  {
   "cell_type": "code",
   "execution_count": null,
   "metadata": {},
   "outputs": [],
   "source": [
    "!pip install tts"
   ]
  },
  {
   "cell_type": "markdown",
   "metadata": {},
   "source": [
    "# List all available models:"
   ]
  },
  {
   "cell_type": "code",
   "execution_count": null,
   "metadata": {},
   "outputs": [],
   "source": [
    "tts --list_models"
   ]
  },
  {
   "cell_type": "markdown",
   "metadata": {},
   "source": [
    "As it is an Indian English speaker, who speaks pretty fast, I choose : <b>tts_models/en/ljspeech/speedy-speech</b>"
   ]
  },
  {
   "cell_type": "markdown",
   "metadata": {},
   "source": [
    "# Download the model and create a sample output (also for comparison later on):"
   ]
  },
  {
   "cell_type": "code",
   "execution_count": null,
   "metadata": {},
   "outputs": [],
   "source": [
    "tts --model_name tts_models/en/ljspeech/speedy-speech \\\n",
    "    --text \"It's always darkest before it becomes totally black.\""
   ]
  },
  {
   "cell_type": "markdown",
   "metadata": {},
   "source": [
    "# Edit the following part of the config file "
   ]
  },
  {
   "cell_type": "markdown",
   "metadata": {},
   "source": [
    "<b>File : .local/share/tts/tts_models--en--ljspeech--speedy-speech/config.json : </b>"
   ]
  },
  {
   "cell_type": "markdown",
   "metadata": {},
   "source": [
    "    \"datasets\":\n",
    "        [\n",
    "            {\n",
    "                \"name\": \"ljspeech\",\n",
    "                \"path\": \"/home/[username]/[voicefolder]/\",\n",
    "                \"meta_file_train\": \"metadata.csv\",\n",
    "                \"meta_file_val\": \"metadata.csv\"\n",
    "            }\n",
    "        ]"
   ]
  },
  {
   "cell_type": "markdown",
   "metadata": {},
   "source": [
    "<b>Note :</b> I had to change the name of the extracted audio files directory from to \"adaptation_wav\" to \"wavs\""
   ]
  },
  {
   "cell_type": "markdown",
   "metadata": {},
   "source": [
    "# Start the fine-tuning"
   ]
  },
  {
   "cell_type": "code",
   "execution_count": null,
   "metadata": {},
   "outputs": [],
   "source": [
    "sudo -s"
   ]
  },
  {
   "cell_type": "code",
   "execution_count": null,
   "metadata": {},
   "outputs": [],
   "source": [
    "CUDA_VISIBLE_DEVICES=\"0\" python3 .local/lib/python3.6/site-packages/TTS/bin/train_tts.py \\\n",
    "    --config_path  .local/share/tts/tts_models--en--ljspeech--speedy-speech/config.json \\\n",
    "    --restore_path  /home/ubuntu/.local/share/tts/tts_models--en--ljspeech--glow-tts/model_file.pth"
   ]
  },
  {
   "cell_type": "markdown",
   "metadata": {},
   "source": [
    "<b>For my machine it took approximately 25 hours</b> (about 1,5 minutes per epoch, configured 1000 epochs)"
   ]
  },
  {
   "cell_type": "markdown",
   "metadata": {},
   "source": [
    "Specification of my machine : AMD Ryzen 7 4700U with Radeon Graphics 2.00 GHz, RAM 16,0 GB"
   ]
  },
  {
   "cell_type": "markdown",
   "metadata": {},
   "source": [
    "# Create the audio output from the fine-tuned model:"
   ]
  },
  {
   "cell_type": "markdown",
   "metadata": {},
   "source": [
    "Following the instructions here:<a href=\"https://github.com/coqui-ai/TTS\">coqui-ai / TTS</a> (see point: Run your own TTS model (Using Griffin-Lim Vocoder) )"
   ]
  },
  {
   "cell_type": "code",
   "execution_count": null,
   "metadata": {},
   "outputs": [],
   "source": [
    "tts --text \"It's always darkest before it becomes totally black.\" --model_path home/ubuntu/TTS/recipes/ljspeech/speedy_speech/[speedy_speech_ljspeech-....]/best_model.pth \\\n",
    "    --config_path /home/[username]/.local/share/tts/tts_models--en--ljspeech--speedy-speech/config.json \\\n",
    "    --out_path /home/[username]/fine-tuned.wav"
   ]
  }
 ],
 "metadata": {
  "hide_input": false,
  "kernelspec": {
   "display_name": "Python 3 (ipykernel)",
   "language": "python",
   "name": "python3"
  },
  "language_info": {
   "codemirror_mode": {
    "name": "ipython",
    "version": 3
   },
   "file_extension": ".py",
   "mimetype": "text/x-python",
   "name": "python",
   "nbconvert_exporter": "python",
   "pygments_lexer": "ipython3",
   "version": "3.9.7"
  },
  "toc": {
   "base_numbering": 1,
   "nav_menu": {},
   "number_sections": true,
   "sideBar": true,
   "skip_h1_title": false,
   "title_cell": "Table of Contents",
   "title_sidebar": "Contents",
   "toc_cell": false,
   "toc_position": {
    "height": "calc(100% - 180px)",
    "left": "10px",
    "top": "150px",
    "width": "181px"
   },
   "toc_section_display": true,
   "toc_window_display": true
  },
  "varInspector": {
   "cols": {
    "lenName": 16,
    "lenType": 16,
    "lenVar": 40
   },
   "kernels_config": {
    "python": {
     "delete_cmd_postfix": "",
     "delete_cmd_prefix": "del ",
     "library": "var_list.py",
     "varRefreshCmd": "print(var_dic_list())"
    },
    "r": {
     "delete_cmd_postfix": ") ",
     "delete_cmd_prefix": "rm(",
     "library": "var_list.r",
     "varRefreshCmd": "cat(var_dic_list()) "
    }
   },
   "types_to_exclude": [
    "module",
    "function",
    "builtin_function_or_method",
    "instance",
    "_Feature"
   ],
   "window_display": false
  }
 },
 "nbformat": 4,
 "nbformat_minor": 4
}
